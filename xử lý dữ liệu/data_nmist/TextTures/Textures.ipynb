{
  "nbformat": 4,
  "nbformat_minor": 0,
  "metadata": {
    "colab": {
      "name": "Textures.ipynb",
      "provenance": [],
      "collapsed_sections": []
    },
    "kernelspec": {
      "name": "python3",
      "display_name": "Python 3"
    },
    "language_info": {
      "name": "python"
    }
  },
  "cells": [
    {
      "cell_type": "code",
      "metadata": {
        "id": "vgIThwTAxGjO"
      },
      "source": [
        "import numpy as np\n",
        "import pandas as pd\n",
        "import matplotlib.pyplot as plt\n",
        "import tensorflow as tf\n",
        "from tensorflow import keras\n",
        "import sklearn\n",
        "from skimage.feature import greycomatrix, greycoprops\n",
        "from sklearn.preprocessing import StandardScaler"
      ],
      "execution_count": null,
      "outputs": []
    },
    {
      "cell_type": "code",
      "metadata": {
        "colab": {
          "base_uri": "https://localhost:8080/"
        },
        "id": "75otoOO7DYR_",
        "outputId": "91ca3832-7a63-4c55-e3f3-79a2146f1c17"
      },
      "source": [
        "(x_train, y_train), (x_test, y_test) = keras.datasets.mnist.load_data()\n",
        "\n",
        "print(np.shape(x_train))\n",
        "print(np.shape(x_test))"
      ],
      "execution_count": null,
      "outputs": [
        {
          "output_type": "stream",
          "text": [
            "(60000, 28, 28)\n",
            "(10000, 28, 28)\n"
          ],
          "name": "stdout"
        }
      ]
    },
    {
      "cell_type": "code",
      "metadata": {
        "id": "bmyArq9-DavI"
      },
      "source": [
        "def img_glcm(x):\n",
        "  img_glcm = []\n",
        "  distances = [1, 3, 5, 10, 20]\n",
        "\n",
        "  for img in x:\n",
        "    temp = []\n",
        "    for dis in distances:\n",
        "      glcm = greycomatrix(img, distances=[dis], angles= [0], levels= 256, symmetric=True, normed=False)\n",
        "      temp.extend([greycoprops(glcm, 'dissimilarity')[0, 0], greycoprops(glcm, 'contrast')[0, 0], greycoprops(glcm, 'correlation')[0, 0], greycoprops(glcm, 'homogeneity')[0, 0], greycoprops(glcm, 'energy')[0, 0]])\n",
        "    \n",
        "    img_glcm.append(temp)\n",
        "  return img_glcm"
      ],
      "execution_count": null,
      "outputs": []
    },
    {
      "cell_type": "code",
      "metadata": {
        "id": "rINiaYvDFD8h"
      },
      "source": [
        "img_glcm_train = img_glcm(x_train)"
      ],
      "execution_count": null,
      "outputs": []
    },
    {
      "cell_type": "code",
      "metadata": {
        "id": "edb-C5VLFbI6"
      },
      "source": [
        "img_glcm_test = img_glcm(x_test)"
      ],
      "execution_count": null,
      "outputs": []
    },
    {
      "cell_type": "code",
      "metadata": {
        "id": "OudMCJZsGI-8",
        "colab": {
          "base_uri": "https://localhost:8080/"
        },
        "outputId": "ed9b8f9b-2bdc-4ad1-f177-23d0d50933e1"
      },
      "source": [
        "print(np.shape(img_glcm_train))\n",
        "print(np.shape(img_glcm_test))"
      ],
      "execution_count": null,
      "outputs": [
        {
          "output_type": "stream",
          "text": [
            "(60000, 25)\n",
            "(10000, 25)\n"
          ],
          "name": "stdout"
        }
      ]
    },
    {
      "cell_type": "code",
      "metadata": {
        "id": "mnxOxYCMHZFr",
        "colab": {
          "base_uri": "https://localhost:8080/"
        },
        "outputId": "bba4c7d4-dd06-438e-8b89-57ceb005c11a"
      },
      "source": [
        "print(img_glcm_train[1])"
      ],
      "execution_count": null,
      "outputs": [
        {
          "output_type": "stream",
          "text": [
            "[22.886243386243386, 3279.6349206349205, 0.7734203525644802, 0.756054291666285, 0.7280048843730417, 59.07142857142857, 12232.85714285714, 0.20256010388417073, 0.6345753558546408, 0.6237534507695643, 77.22981366459626, 16331.468944099379, -0.0018647559758562086, 0.5484597348091829, 0.5429111948444624, 77.04365079365078, 16570.72619047619, -0.059870906112974166, 0.5500288172459197, 0.5523094650193061, 39.558035714285715, 8593.004464285714, -0.10017419409327868, 0.7725882578308524, 0.7738617484666089]\n"
          ],
          "name": "stdout"
        }
      ]
    },
    {
      "cell_type": "markdown",
      "metadata": {
        "id": "XZRIrfZdxD7S"
      },
      "source": [
        "PCA-data\n"
      ]
    },
    {
      "cell_type": "code",
      "metadata": {
        "id": "kj4vUGMRxDPL"
      },
      "source": [
        "import numpy as np\n",
        "e = 1e-9\n",
        "imag_mean = np.mean(img_glcm_train,axis = 0, keepdims=True)\n",
        "imag_std = np.std(img_glcm_train,axis = 0, keepdims=True)\n",
        "img_glcm_train -= imag_mean;   img_glcm_train /= (imag_std + e)   \n",
        "img_glcm_test  -= imag_mean;   img_glcm_test /= (imag_std + e)"
      ],
      "execution_count": null,
      "outputs": []
    },
    {
      "cell_type": "code",
      "metadata": {
        "id": "89bQnNpuxlqF"
      },
      "source": [
        "from sklearn import decomposition\n",
        "n_components = 16\n",
        "pca = decomposition.PCA(n_components=n_components)"
      ],
      "execution_count": null,
      "outputs": []
    },
    {
      "cell_type": "code",
      "metadata": {
        "id": "TXAtTB4nxmEd"
      },
      "source": [
        "# fit data\n",
        "pca.fit(img_glcm_train)\n",
        "Z_train = pca.transform(img_glcm_train)\n",
        "Z_test  = pca.transform(img_glcm_test)"
      ],
      "execution_count": null,
      "outputs": []
    },
    {
      "cell_type": "code",
      "metadata": {
        "colab": {
          "base_uri": "https://localhost:8080/"
        },
        "id": "5rl-bwhBx0t7",
        "outputId": "59429e32-ef10-4d93-d578-1a1f488250d8"
      },
      "source": [
        "print(Z_train[1])\n",
        "print(Z_train.shape)\n",
        "Z_test.shape"
      ],
      "execution_count": null,
      "outputs": [
        {
          "output_type": "stream",
          "text": [
            "[-4.1852043  -2.30147485 -1.30203685  0.19469035  0.45210201 -0.23673819\n",
            "  0.52361553 -0.12210081  0.43750313  0.05175279  0.10049139 -0.02378572\n",
            " -0.03784972 -0.06901242 -0.19596843 -0.04370894]\n",
            "(60000, 16)\n"
          ],
          "name": "stdout"
        },
        {
          "output_type": "execute_result",
          "data": {
            "text/plain": [
              "(10000, 16)"
            ]
          },
          "metadata": {
            "tags": []
          },
          "execution_count": 127
        }
      ]
    },
    {
      "cell_type": "markdown",
      "metadata": {
        "id": "wEtk0s6lsiNe"
      },
      "source": [
        "n-bayes"
      ]
    },
    {
      "cell_type": "code",
      "metadata": {
        "colab": {
          "base_uri": "https://localhost:8080/"
        },
        "id": "2D9NCJ_KrpmR",
        "outputId": "2f69e356-de90-41d3-a36f-7c1d21b36469"
      },
      "source": [
        "from sklearn.naive_bayes import GaussianNB\n",
        "nb_model = GaussianNB()\n",
        "nb_model.fit(Z_train,y_train)"
      ],
      "execution_count": null,
      "outputs": [
        {
          "output_type": "execute_result",
          "data": {
            "text/plain": [
              "GaussianNB(priors=None, var_smoothing=1e-09)"
            ]
          },
          "metadata": {
            "tags": []
          },
          "execution_count": 114
        }
      ]
    },
    {
      "cell_type": "code",
      "metadata": {
        "colab": {
          "base_uri": "https://localhost:8080/"
        },
        "id": "z1V77zLVsIFC",
        "outputId": "6bc54117-5568-46d3-9079-eb033d5c1e9a"
      },
      "source": [
        "from sklearn.metrics import accuracy_score\n",
        "y_pred = nb_model.predict(Z_test)\n",
        "print(accuracy_score(y_test,y_pred))"
      ],
      "execution_count": null,
      "outputs": [
        {
          "output_type": "stream",
          "text": [
            "0.5842\n"
          ],
          "name": "stdout"
        }
      ]
    },
    {
      "cell_type": "markdown",
      "metadata": {
        "id": "EXpf76KwsnuR"
      },
      "source": [
        "neural network"
      ]
    },
    {
      "cell_type": "code",
      "metadata": {
        "id": "X2WcvXEcsUvt"
      },
      "source": [
        "import tensorflow as tf\n",
        "from tensorflow.python.eager.context import graph_mode\n",
        "# xây dụng model \n",
        "model = tf.keras.models.Sequential()\n",
        "#chuyển dữ liệu về dạng phẳng 28x28 = 1x748\n",
        "# model.add(tf.keras.layers.Flatten())\n",
        "#tạo ra 3 lớp của model với 128 điểm  \n",
        "model.add(tf.keras.layers.Dense(128, activation=tf.nn.relu))\n",
        "model.add(tf.keras.layers.Dense(128, activation=tf.nn.relu))\n",
        "#tạo lớp cuối vói 10 điểm \n",
        "model.add(tf.keras.layers.Dense(10, activation=tf.nn.softmax))"
      ],
      "execution_count": null,
      "outputs": []
    },
    {
      "cell_type": "code",
      "metadata": {
        "colab": {
          "base_uri": "https://localhost:8080/"
        },
        "id": "kQuDmp8CzdV_",
        "outputId": "7f894c1e-fc62-47e0-89dd-d4df8abed7f4"
      },
      "source": [
        "# compile model\n",
        "model.compile(optimizer='adam',\n",
        "              loss='sparse_categorical_crossentropy',\n",
        "              metrics=['accuracy'])\n",
        "model.fit(Z_train, y_train, epochs=5)"
      ],
      "execution_count": null,
      "outputs": [
        {
          "output_type": "stream",
          "text": [
            "Epoch 1/5\n",
            "1875/1875 [==============================] - 4s 2ms/step - loss: 0.5210 - accuracy: 0.8053\n",
            "Epoch 2/5\n",
            "1875/1875 [==============================] - 4s 2ms/step - loss: 0.5103 - accuracy: 0.8096\n",
            "Epoch 3/5\n",
            "1875/1875 [==============================] - 4s 2ms/step - loss: 0.5029 - accuracy: 0.8119\n",
            "Epoch 4/5\n",
            "1875/1875 [==============================] - 4s 2ms/step - loss: 0.4984 - accuracy: 0.8138\n",
            "Epoch 5/5\n",
            "1875/1875 [==============================] - 4s 2ms/step - loss: 0.4896 - accuracy: 0.8164\n"
          ],
          "name": "stdout"
        },
        {
          "output_type": "execute_result",
          "data": {
            "text/plain": [
              "<tensorflow.python.keras.callbacks.History at 0x7f1516327310>"
            ]
          },
          "metadata": {
            "tags": []
          },
          "execution_count": 122
        },
        {
          "output_type": "stream",
          "text": [
            "Epoch 1/5\n"
          ],
          "name": "stdout"
        }
      ]
    },
    {
      "cell_type": "code",
      "metadata": {
        "colab": {
          "base_uri": "https://localhost:8080/"
        },
        "id": "RadIs8VEs5mi",
        "outputId": "38a64d4f-ec2f-4fad-c3f9-0442269426ae"
      },
      "source": [
        "#loss function and accuracy function\n",
        "val_loss, val_acc = model.evaluate(Z_test, y_test)\n",
        "print(val_acc)"
      ],
      "execution_count": null,
      "outputs": [
        {
          "output_type": "stream",
          "text": [
            "313/313 [==============================] - 1s 2ms/step - loss: 0.7977 - accuracy: 0.7475\n",
            "0.7475000023841858\n"
          ],
          "name": "stdout"
        }
      ]
    },
    {
      "cell_type": "markdown",
      "metadata": {
        "id": "7zh5h_yAwaQJ"
      },
      "source": [
        "k-NN"
      ]
    },
    {
      "cell_type": "code",
      "metadata": {
        "colab": {
          "base_uri": "https://localhost:8080/"
        },
        "id": "-OtjHG_Vt9pV",
        "outputId": "7e0a948e-06c5-4805-98a1-0e5a4a8e8aa1"
      },
      "source": [
        "from sklearn.neighbors import KNeighborsClassifier\n",
        "# fit model\n",
        "knn = KNeighborsClassifier(n_neighbors=100, p=2)\n",
        "knn.fit(Z_train,y_train)"
      ],
      "execution_count": null,
      "outputs": [
        {
          "output_type": "execute_result",
          "data": {
            "text/plain": [
              "KNeighborsClassifier(algorithm='auto', leaf_size=30, metric='minkowski',\n",
              "                     metric_params=None, n_jobs=None, n_neighbors=100, p=2,\n",
              "                     weights='uniform')"
            ]
          },
          "metadata": {
            "tags": []
          },
          "execution_count": 131
        }
      ]
    },
    {
      "cell_type": "code",
      "metadata": {
        "colab": {
          "base_uri": "https://localhost:8080/"
        },
        "id": "G0Cn9tiMwXY6",
        "outputId": "5466dfe7-d737-4d0f-a99b-a639de65bebf"
      },
      "source": [
        "y_pred = knn.predict(Z_test)\n",
        "print(accuracy_score(y_test,y_pred))"
      ],
      "execution_count": null,
      "outputs": [
        {
          "output_type": "stream",
          "text": [
            "0.6652\n"
          ],
          "name": "stdout"
        }
      ]
    },
    {
      "cell_type": "markdown",
      "metadata": {
        "id": "mxLvIxek06II"
      },
      "source": [
        "logistic regression"
      ]
    },
    {
      "cell_type": "code",
      "metadata": {
        "colab": {
          "base_uri": "https://localhost:8080/"
        },
        "id": "w6nSdu7XwXw6",
        "outputId": "b67f2835-0be0-40fa-a36d-92cea93ef17c"
      },
      "source": [
        "from sklearn.linear_model import LogisticRegression\n",
        "\n",
        "lgt = LogisticRegression()\n",
        "lgt.fit(Z_train,y_train)"
      ],
      "execution_count": null,
      "outputs": [
        {
          "output_type": "stream",
          "text": [
            "/usr/local/lib/python3.7/dist-packages/sklearn/linear_model/_logistic.py:940: ConvergenceWarning: lbfgs failed to converge (status=1):\n",
            "STOP: TOTAL NO. of ITERATIONS REACHED LIMIT.\n",
            "\n",
            "Increase the number of iterations (max_iter) or scale the data as shown in:\n",
            "    https://scikit-learn.org/stable/modules/preprocessing.html\n",
            "Please also refer to the documentation for alternative solver options:\n",
            "    https://scikit-learn.org/stable/modules/linear_model.html#logistic-regression\n",
            "  extra_warning_msg=_LOGISTIC_SOLVER_CONVERGENCE_MSG)\n"
          ],
          "name": "stderr"
        },
        {
          "output_type": "execute_result",
          "data": {
            "text/plain": [
              "LogisticRegression(C=1.0, class_weight=None, dual=False, fit_intercept=True,\n",
              "                   intercept_scaling=1, l1_ratio=None, max_iter=100,\n",
              "                   multi_class='auto', n_jobs=None, penalty='l2',\n",
              "                   random_state=None, solver='lbfgs', tol=0.0001, verbose=0,\n",
              "                   warm_start=False)"
            ]
          },
          "metadata": {
            "tags": []
          },
          "execution_count": 133
        }
      ]
    },
    {
      "cell_type": "code",
      "metadata": {
        "colab": {
          "base_uri": "https://localhost:8080/"
        },
        "id": "ItxArLNxwYV9",
        "outputId": "8e194429-5ea0-4aef-8c21-407d8623ccc2"
      },
      "source": [
        "y_predict = lgt.predict(Z_test)\n",
        "accuracy = accuracy_score(y_predict,y_test)\n",
        "print(accuracy)"
      ],
      "execution_count": null,
      "outputs": [
        {
          "output_type": "stream",
          "text": [
            "0.6395\n"
          ],
          "name": "stdout"
        }
      ]
    },
    {
      "cell_type": "code",
      "metadata": {
        "id": "ZQgWaZSDwY7b"
      },
      "source": [
        ""
      ],
      "execution_count": null,
      "outputs": []
    }
  ]
}