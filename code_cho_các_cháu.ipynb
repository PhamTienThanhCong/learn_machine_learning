{
  "nbformat": 4,
  "nbformat_minor": 0,
  "metadata": {
    "colab": {
      "name": "code_cho_các_cháu.ipynb",
      "provenance": [],
      "collapsed_sections": [],
      "toc_visible": true,
      "authorship_tag": "ABX9TyNzdQnID7dP18damxCykPlp",
      "include_colab_link": true
    },
    "kernelspec": {
      "name": "python3",
      "display_name": "Python 3"
    },
    "language_info": {
      "name": "python"
    }
  },
  "cells": [
    {
      "cell_type": "markdown",
      "metadata": {
        "id": "view-in-github",
        "colab_type": "text"
      },
      "source": [
        "<a href=\"https://colab.research.google.com/github/congphamtienthanh/learn_machine_learning/blob/master/code_cho_c%C3%A1c_ch%C3%A1u.ipynb\" target=\"_parent\"><img src=\"https://colab.research.google.com/assets/colab-badge.svg\" alt=\"Open In Colab\"/></a>"
      ]
    },
    {
      "cell_type": "markdown",
      "metadata": {
        "id": "1rIBdluAU-BR"
      },
      "source": [
        "# Linear regression\n"
      ]
    },
    {
      "cell_type": "code",
      "metadata": {
        "id": "MXpChZ_oVJTP"
      },
      "source": [
        "# import các thư viện cần dùng\n",
        "import numpy as np\n",
        "import matplotlib.pyplot as plt\n",
        "from sklearn.linear_model import LinearRegression"
      ],
      "execution_count": null,
      "outputs": []
    },
    {
      "cell_type": "code",
      "metadata": {
        "id": "ZscLxGBMVgKO"
      },
      "source": [
        "X = np.array([[ 30.0    ],\n",
        "[ 32.4138],\n",
        " [ 34.8276],\n",
        " [ 37.2414],\n",
        " [ 39.6552],\n",
        " [ 42.069 ],\n",
        " [ 44.4828],\n",
        " [ 46.8966],\n",
        " [ 49.3103],\n",
        " [ 51.7241],\n",
        " [ 54.1379],\n",
        " [ 56.5517],\n",
        " [ 58.9655],\n",
        " [ 61.3793],\n",
        " [ 63.7931],\n",
        " [ 66.2069],\n",
        " [ 68.6207],\n",
        " [ 71.0345],\n",
        " [ 73.4483],\n",
        " [ 75.8621],\n",
        " [ 78.2759],\n",
        " [ 80.6897],\n",
        " [ 83.1034],\n",
        " [ 85.5172],\n",
        " [ 87.931 ],\n",
        " [ 90.3448],\n",
        " [ 92.7586],\n",
        " [ 95.1724],\n",
        " [ 97.5862],\n",
        " [100.    ]])"
      ],
      "execution_count": null,
      "outputs": []
    },
    {
      "cell_type": "code",
      "metadata": {
        "id": "vkTuY2gYV7ZI"
      },
      "source": [
        "y = [[ 448.524],\n",
        " [ 509.248],\n",
        " [ 535.104],\n",
        " [ 551.432],\n",
        " [ 623.418],\n",
        " [ 625.992],\n",
        " [ 655.248],\n",
        " [ 701.377],\n",
        " [ 748.918],\n",
        " [ 757.881],\n",
        " [ 831.004],\n",
        " [ 855.409],\n",
        " [ 866.707],\n",
        " [ 902.545],\n",
        " [ 952.261],\n",
        " [ 995.531],\n",
        " [1069.78 ],\n",
        " [1074.42 ],\n",
        " [1103.88 ],\n",
        " [1138.69 ],\n",
        " [1153.13 ],\n",
        " [1240.27 ],\n",
        " [1251.9  ],\n",
        " [1287.97 ],\n",
        " [1320.47 ],\n",
        " [1374.92 ],\n",
        " [1410.16 ],\n",
        " [1469.69 ],\n",
        " [1478.54 ],\n",
        " [1515.28 ]]"
      ],
      "execution_count": null,
      "outputs": []
    },
    {
      "cell_type": "code",
      "metadata": {
        "colab": {
          "base_uri": "https://localhost:8080/"
        },
        "id": "LMj1nui5XG6y",
        "outputId": "5b757255-270a-40a1-908b-3cda40365f4d"
      },
      "source": [
        "lgr = LinearRegression()\n",
        "lgr.fit(X,y)"
      ],
      "execution_count": null,
      "outputs": [
        {
          "output_type": "execute_result",
          "data": {
            "text/plain": [
              "LinearRegression(copy_X=True, fit_intercept=True, n_jobs=None, normalize=False)"
            ]
          },
          "metadata": {
            "tags": []
          },
          "execution_count": 10
        }
      ]
    },
    {
      "cell_type": "code",
      "metadata": {
        "colab": {
          "base_uri": "https://localhost:8080/",
          "height": 282
        },
        "id": "dCEbl3qBZFXi",
        "outputId": "a6c6adc0-2750-4882-b4a3-73a5075c4998"
      },
      "source": [
        "y_new = lgr.predict(X)\n",
        "plt.plot(X,y,'go')\n",
        "plt.plot(X,y_new)"
      ],
      "execution_count": null,
      "outputs": [
        {
          "output_type": "execute_result",
          "data": {
            "text/plain": [
              "[<matplotlib.lines.Line2D at 0x7f3f261e2d50>]"
            ]
          },
          "metadata": {
            "tags": []
          },
          "execution_count": 14
        },
        {
          "output_type": "display_data",
          "data": {
            "image/png": "[encoded data removed]",
            "text/plain": [
              "<Figure size 432x288 with 1 Axes>"
            ]
          },
          "metadata": {
            "tags": [],
            "needs_background": "light"
          }
        }
      ]
    },
    {
      "cell_type": "code",
      "metadata": {
        "id": "nWsQG0zkaDFu"
      },
      "source": [
        ""
      ],
      "execution_count": null,
      "outputs": []
    }
  ]
}